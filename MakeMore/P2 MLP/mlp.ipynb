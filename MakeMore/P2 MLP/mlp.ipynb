{
 "cells": [
  {
   "cell_type": "code",
   "execution_count": 99,
   "id": "c3098e45",
   "metadata": {},
   "outputs": [],
   "source": [
    "import torch\n",
    "import torch.nn.functional as F\n",
    "import matplotlib.pyplot as plt\n",
    "%matplotlib inline"
   ]
  },
  {
   "cell_type": "code",
   "execution_count": 100,
   "id": "d189c0c1",
   "metadata": {},
   "outputs": [
    {
     "data": {
      "text/plain": [
       "['emma', 'olivia', 'ava', 'isabella', 'sophia', 'charlotte', 'mia', 'amelia']"
      ]
     },
     "execution_count": 100,
     "metadata": {},
     "output_type": "execute_result"
    }
   ],
   "source": [
    "words = open(\"names.txt\", \"r\").read().splitlines()\n",
    "words[:8] "
   ]
  },
  {
   "cell_type": "code",
   "execution_count": 101,
   "id": "39ece746",
   "metadata": {},
   "outputs": [],
   "source": [
    "# Mapping characters from/to integer\n",
    "chars = sorted(list(set(''.join(words))))\n",
    "stoi = {s:i+1 for i,s in enumerate(chars)}\n",
    "stoi['.'] = 0\n",
    "itos = {s:i for i,s in stoi.items()}"
   ]
  },
  {
   "cell_type": "code",
   "execution_count": null,
   "id": "155e6d4b",
   "metadata": {},
   "outputs": [],
   "source": [
    "# Building the Dataset\n",
    "\n",
    "block_size = 3\n",
    "X, Y = [], []\n",
    "for word in words[: 5]:\n",
    "    context = [0] * block_size\n",
    "    print(f\"Word: {word}\")\n",
    "    for ch in word + \".\":\n",
    "        ix = stoi[ch]\n",
    "        X.append(context)\n",
    "        Y.append(ix)\n",
    "        print(\"\".join(itos[i] for i in context), \" -> \", itos[ix])\n",
    "        context = context[1:] + [ix]\n",
    "\n",
    "X = torch.tensor(X)\n",
    "Y = torch.tensor(Y)"
   ]
  },
  {
   "cell_type": "code",
   "execution_count": 103,
   "id": "abedb1aa",
   "metadata": {},
   "outputs": [
    {
     "data": {
      "text/plain": [
       "(torch.Size([32, 3]), torch.int64, torch.Size([32]), torch.int64)"
      ]
     },
     "execution_count": 103,
     "metadata": {},
     "output_type": "execute_result"
    }
   ],
   "source": [
    "X.shape, X.dtype, Y.shape, Y.dtype"
   ]
  },
  {
   "cell_type": "code",
   "execution_count": 104,
   "id": "a709e1ba",
   "metadata": {},
   "outputs": [
    {
     "data": {
      "text/plain": [
       "torch.Size([32, 3, 2])"
      ]
     },
     "execution_count": 104,
     "metadata": {},
     "output_type": "execute_result"
    }
   ],
   "source": [
    "g = torch.Generator().manual_seed(2147483647)\n",
    "\n",
    "C = torch.randn((27, 2), generator=g) # Embedding Table\n",
    "emb = C[X]                # look up embeddings for all context chars\n",
    "emb.shape"
   ]
  },
  {
   "cell_type": "code",
   "execution_count": 105,
   "id": "f2105f5e",
   "metadata": {},
   "outputs": [],
   "source": [
    "# Define the first layer parameters\n",
    "W1 = torch.randn((6, 100), generator=g)\n",
    "b1 = torch.randn(100, generator=g)"
   ]
  },
  {
   "cell_type": "code",
   "execution_count": 106,
   "id": "9b012f09",
   "metadata": {},
   "outputs": [],
   "source": [
    "# emb @ W1 + b1\n",
    "# OUTPUT:-\n",
    "# ---------------------------------------------------------------------------\n",
    "# RuntimeError                              Traceback (most recent call last)\n",
    "# Cell In[29], line 1\n",
    "# ----> 1 emb @ W1 + b1\n",
    "\n",
    "# RuntimeError: mat1 and mat2 shapes cannot be multiplied (48x2 and 6x100)"
   ]
  },
  {
   "cell_type": "code",
   "execution_count": null,
   "id": "341e6757",
   "metadata": {},
   "outputs": [],
   "source": [
    "# Inefficient as it creates additional memory.\n",
    "\n",
    "# torch.cat([emb[:, 0, :], emb[:, 1, :], emb[:, 2, :]], 1).shape # Specifically for block size 3.\n",
    "torch.cat(torch.unbind(emb, 1), 1) # Genralized for block size."
   ]
  },
  {
   "cell_type": "code",
   "execution_count": null,
   "id": "d2a54eb3",
   "metadata": {},
   "outputs": [],
   "source": [
    "# tensor memory layout and reshaping example\n",
    "# a = [i for i in range(18)]\n",
    "a = torch.arange(18)\n",
    "print(a.view(3,3,2))\n",
    "print(a.view(2,9))\n",
    "print(a.storage())"
   ]
  },
  {
   "cell_type": "code",
   "execution_count": null,
   "id": "bc40bc3f",
   "metadata": {},
   "outputs": [],
   "source": [
    "emb.view(32, 6) == torch.cat(torch.unbind(emb, 1), 1) # Both produces identical results"
   ]
  },
  {
   "cell_type": "code",
   "execution_count": null,
   "id": "2cbad008",
   "metadata": {},
   "outputs": [],
   "source": [
    "emb.view(32, 6) @ W1 + b1"
   ]
  },
  {
   "cell_type": "code",
   "execution_count": null,
   "id": "188a3a37",
   "metadata": {},
   "outputs": [],
   "source": [
    "# h = emb.view(emb.shape[0], 6) @ W1 + b1\n",
    "h = torch.tanh(emb.view(-1, 6) @ W1 + b1)\n",
    "h"
   ]
  },
  {
   "cell_type": "code",
   "execution_count": 112,
   "id": "12106797",
   "metadata": {},
   "outputs": [
    {
     "data": {
      "text/plain": [
       "torch.Size([32, 100])"
      ]
     },
     "execution_count": 112,
     "metadata": {},
     "output_type": "execute_result"
    }
   ],
   "source": [
    "h.shape"
   ]
  },
  {
   "cell_type": "code",
   "execution_count": null,
   "id": "629ade38",
   "metadata": {},
   "outputs": [],
   "source": [
    "# Define the parameters\n",
    "W2 = torch.randn((100, 27), generator=g) \n",
    "b2 = torch.randn(27, generator=g)"
   ]
  },
  {
   "cell_type": "code",
   "execution_count": 114,
   "id": "5bd7b7c9",
   "metadata": {},
   "outputs": [],
   "source": [
    "logits = h @ W2 + b2"
   ]
  },
  {
   "cell_type": "code",
   "execution_count": 115,
   "id": "a76bd7ba",
   "metadata": {},
   "outputs": [
    {
     "data": {
      "text/plain": [
       "torch.Size([32, 27])"
      ]
     },
     "execution_count": 115,
     "metadata": {},
     "output_type": "execute_result"
    }
   ],
   "source": [
    "logits.shape"
   ]
  },
  {
   "cell_type": "code",
   "execution_count": 116,
   "id": "031a5ba4",
   "metadata": {},
   "outputs": [
    {
     "data": {
      "text/plain": [
       "tensor(17.7697)"
      ]
     },
     "execution_count": 116,
     "metadata": {},
     "output_type": "execute_result"
    }
   ],
   "source": [
    "# counts = logits.exp()\n",
    "# prob = counts / counts.sum(1, keepdim=True)\n",
    "# Log likelyhood loss\n",
    "# loss = -prob[torch.arange(32), Y].log().mean()\n",
    "# loss\n",
    "\n",
    "# Better and efficient in forward and backward pass\n",
    "# numerically stable\n",
    "loss = F.cross_entropy(logits, Y)\n",
    "loss"
   ]
  },
  {
   "cell_type": "markdown",
   "id": "4090db1c",
   "metadata": {},
   "source": [
    "### Clean Code"
   ]
  },
  {
   "cell_type": "code",
   "execution_count": 153,
   "id": "db6234c3",
   "metadata": {},
   "outputs": [],
   "source": [
    "# Using complete Dataset\n",
    "\n",
    "def build_dataset(words):\n",
    "    block_size = 3\n",
    "    X, Y = [], []\n",
    "    for word in words:\n",
    "        context = [0] * block_size\n",
    "        for ch in word + \".\":\n",
    "            ix = stoi[ch]\n",
    "            X.append(context)\n",
    "            Y.append(ix)\n",
    "            context = context[1:] + [ix]\n",
    "\n",
    "    X = torch.tensor(X)\n",
    "    Y = torch.tensor(Y)\n",
    "    return X, Y"
   ]
  },
  {
   "cell_type": "code",
   "execution_count": 154,
   "id": "93fd863f",
   "metadata": {},
   "outputs": [],
   "source": [
    "# Splitting data\n",
    "import random\n",
    "\n",
    "random.seed(42)\n",
    "random.shuffle(words)\n",
    "n1 = int(0.8 * len(words))\n",
    "n2 = int(0.9 * len(words))\n",
    "\n",
    "Xtr, Ytr = build_dataset(words[:n1])\n",
    "Xdev, Ydev = build_dataset(words[n1:n2])\n",
    "Xtst, Ytst = build_dataset(words[n2:])"
   ]
  },
  {
   "cell_type": "code",
   "execution_count": 200,
   "id": "3d745f36",
   "metadata": {},
   "outputs": [
    {
     "data": {
      "text/plain": [
       "11897"
      ]
     },
     "execution_count": 200,
     "metadata": {},
     "output_type": "execute_result"
    }
   ],
   "source": [
    "g = torch.Generator().manual_seed(2147483647)\n",
    "C = torch.randn((27, 10), generator=g) # Embedding Table\n",
    "W1 = torch.randn((30, 200), generator=g)\n",
    "b1 = torch.randn(200, generator=g)\n",
    "W2 = torch.randn((200, 27), generator=g) \n",
    "b2 = torch.randn(27, generator=g)\n",
    "parameters = [C, W1, b1, W2, b2]\n",
    "\n",
    "sum(p.nelement() for p in parameters)"
   ]
  },
  {
   "cell_type": "code",
   "execution_count": 201,
   "id": "926597d4",
   "metadata": {},
   "outputs": [],
   "source": [
    "for p in parameters:\n",
    "    p.requires_grad = True"
   ]
  },
  {
   "cell_type": "code",
   "execution_count": 129,
   "id": "7039b383",
   "metadata": {},
   "outputs": [
    {
     "name": "stdout",
     "output_type": "stream",
     "text": [
      "2.5609700679779053\n"
     ]
    }
   ],
   "source": [
    "# This Code will take more time as it passes complete data per epoch, Time taken - 7m 26.4s\n",
    "# Define parameters\n",
    "LR = 0.1\n",
    "EPOCH = 100\n",
    "\n",
    "for _ in range(EPOCH):\n",
    " \n",
    "    # Forward Pass\n",
    "    emb = C[X] # (32, 3, 2)\n",
    "    h = torch.tanh(emb.view(-1, 6) @ W1 + b1)\n",
    "    logits = h @ W2 + b2\n",
    "    loss = F.cross_entropy(logits, Y)\n",
    "\n",
    "    # Backward Pass\n",
    "    for p in parameters:\n",
    "        p.grad = None\n",
    "    loss.backward()\n",
    "\n",
    "    # Update\n",
    "    for p in parameters:\n",
    "        p.data -= LR * p.grad\n",
    "\n",
    "print(loss.item())"
   ]
  },
  {
   "cell_type": "code",
   "execution_count": null,
   "id": "989c6673",
   "metadata": {},
   "outputs": [],
   "source": [
    "# # LR Exploration\n",
    "\n",
    "# lre = torch.linspace(-3, 0, 1000)     # log10 scale: 1e-3 → 1e0\n",
    "# lrs = 10 ** lre                       # convert to actual LR values\n",
    "# lossi = []                            # to store loss values\n",
    "\n",
    "# # Use in the main training loop\n",
    "# for lr in lrs:\n",
    "#     # ...\n",
    "#     for p in parameters:\n",
    "#         p.data += -lr * p.grad\n",
    "\n",
    "# import matplotlib.pyplot as plt\n",
    "# plt.plot(lre, lossi)\n",
    "# plt.xlabel(\"log10(learning rate)\")\n",
    "# plt.ylabel(\"log10(loss)\")\n",
    "# plt.show()"
   ]
  },
  {
   "cell_type": "code",
   "execution_count": 202,
   "id": "adcd3c47",
   "metadata": {},
   "outputs": [],
   "source": [
    "# Define parameters\n",
    "LR = 0.05\n",
    "EPOCH = 200000\n",
    "BATCH_SIZE = 64\n",
    "DIMENSION = 10\n",
    "\n",
    "lossi = []\n",
    "stepi = []"
   ]
  },
  {
   "cell_type": "code",
   "execution_count": 203,
   "id": "21273f22",
   "metadata": {},
   "outputs": [],
   "source": [
    "# Using mini-batches for training, Time taken - 0.1s\n",
    "\n",
    "for i in range(EPOCH):\n",
    "\n",
    "    # Batch\n",
    "    ix = torch.randint(0, Xtr.shape[0], (BATCH_SIZE, ))\n",
    "\n",
    "    # Forward Pass\n",
    "    emb = C[Xtr[ix]] # (32, 3, 2)\n",
    "    h = torch.tanh(emb.view(-1, 3 * DIMENSION) @ W1 + b1)\n",
    "    logits = h @ W2 + b2\n",
    "    loss = F.cross_entropy(logits, Ytr[ix])\n",
    "\n",
    "    # Backward Pass\n",
    "    for p in parameters:\n",
    "        p.grad = None\n",
    "    loss.backward()\n",
    "\n",
    "    # Update\n",
    "    for p in parameters:\n",
    "        p.data -= LR * p.grad\n",
    "\n",
    "    stepi.append(i)\n",
    "    lossi.append(loss.log10().item())"
   ]
  },
  {
   "cell_type": "code",
   "execution_count": 204,
   "id": "7a41e967",
   "metadata": {},
   "outputs": [
    {
     "data": {
      "text/plain": [
       "[<matplotlib.lines.Line2D at 0x20cc1e82210>]"
      ]
     },
     "execution_count": 204,
     "metadata": {},
     "output_type": "execute_result"
    },
    {
     "data": {
      "image/png": "[encoded data removed]",
      "text/plain": [
       "<Figure size 640x480 with 1 Axes>"
      ]
     },
     "metadata": {},
     "output_type": "display_data"
    }
   ],
   "source": [
    "plt.plot(stepi, lossi)"
   ]
  },
  {
   "cell_type": "code",
   "execution_count": 205,
   "id": "22f44359",
   "metadata": {},
   "outputs": [
    {
     "data": {
      "text/plain": [
       "tensor(2.1742, grad_fn=<NllLossBackward0>)"
      ]
     },
     "execution_count": 205,
     "metadata": {},
     "output_type": "execute_result"
    }
   ],
   "source": [
    "emb = C[Xtr]\n",
    "h = torch.tanh(emb.view(-1, 3 * DIMENSION) @ W1 + b1)\n",
    "logits = h @ W2 + b2\n",
    "loss = F.cross_entropy(logits, Ytr)\n",
    "loss"
   ]
  },
  {
   "cell_type": "code",
   "execution_count": 206,
   "id": "44570f41",
   "metadata": {},
   "outputs": [
    {
     "data": {
      "text/plain": [
       "tensor(2.2032, grad_fn=<NllLossBackward0>)"
      ]
     },
     "execution_count": 206,
     "metadata": {},
     "output_type": "execute_result"
    }
   ],
   "source": [
    "emb = C[Xdev]\n",
    "h = torch.tanh(emb.view(-1, 3 * DIMENSION) @ W1 + b1)\n",
    "logits = h @ W2 + b2\n",
    "loss = F.cross_entropy(logits, Ydev)\n",
    "loss"
   ]
  },
  {
   "cell_type": "code",
   "execution_count": 215,
   "id": "b1b8f917",
   "metadata": {},
   "outputs": [
    {
     "name": "stdout",
     "output_type": "stream",
     "text": [
      "juel.\n",
      "lure.\n",
      "jirs.\n",
      "taia.\n",
      "abyriah.\n"
     ]
    }
   ],
   "source": [
    "for _ in range(5):\n",
    "    output = []\n",
    "    context = [0] * block_size\n",
    "    while True:\n",
    "        emb = C[torch.tensor([context])]\n",
    "        h = torch.tanh(emb.view(1, -1) @ W1 + b1)\n",
    "        logits = h @ W2 + b2\n",
    "        probs = F.softmax(logits, dim=1)\n",
    "        ix = torch.multinomial(probs, num_samples=1, generator=g).item()\n",
    "        context = context[1:] + [ix]\n",
    "        output.append(ix)\n",
    "        if ix == 0:\n",
    "            break\n",
    "\n",
    "    print(''.join(itos[i] for i in output))"
   ]
  }
 ],
 "metadata": {
  "kernelspec": {
   "display_name": ".venv",
   "language": "python",
   "name": "python3"
  },
  "language_info": {
   "codemirror_mode": {
    "name": "ipython",
    "version": 3
   },
   "file_extension": ".py",
   "mimetype": "text/x-python",
   "name": "python",
   "nbconvert_exporter": "python",
   "pygments_lexer": "ipython3",
   "version": "3.13.7"
  }
 },
 "nbformat": 4,
 "nbformat_minor": 5
}
